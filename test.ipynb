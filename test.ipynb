{
 "cells": [
  {
   "cell_type": "code",
   "execution_count": 1,
   "metadata": {},
   "outputs": [],
   "source": [
    "import pandas as pd\n",
    "import time\n",
    "import requests\n",
    "import os\n",
    "import pymongo \n",
    "from bs4 import BeautifulSoup as bs\n",
    "from splinter import Browser \n",
    "from webdriver_manager.chrome import ChromeDriverManager\n",
    "\n"
   ]
  },
  {
   "cell_type": "code",
   "execution_count": 2,
   "metadata": {},
   "outputs": [
    {
     "name": "stderr",
     "output_type": "stream",
     "text": [
      "[WDM] - ====== WebDriver manager ======\n",
      "[WDM] - Current google-chrome version is 89.0.4389\n",
      "[WDM] - Get LATEST driver version for 89.0.4389\n"
     ]
    },
    {
     "name": "stdout",
     "output_type": "stream",
     "text": [
      "\n",
      "\n"
     ]
    },
    {
     "name": "stderr",
     "output_type": "stream",
     "text": [
      "[WDM] - Driver [C:\\Users\\Owner\\.wdm\\drivers\\chromedriver\\win32\\89.0.4389.23\\chromedriver.exe] found in cache\n"
     ]
    }
   ],
   "source": [
    "executable_path = {'executable_path': ChromeDriverManager().install()}\n",
    "browser = Browser('chrome', **executable_path, headless=False)"
   ]
  },
  {
   "cell_type": "markdown",
   "metadata": {},
   "source": [
    "<h1>NASA Mars News<h1>"
   ]
  },
  {
   "cell_type": "code",
   "execution_count": 3,
   "metadata": {},
   "outputs": [],
   "source": [
    "mars_news_site = \"https://redplanetscience.com/\"\n",
    "browser.visit(mars_news_site)"
   ]
  },
  {
   "cell_type": "code",
   "execution_count": 4,
   "metadata": {},
   "outputs": [],
   "source": [
    "mars_news_site = browser.html\n",
    "soup = bs(mars_news_site, \"lxml\")"
   ]
  },
  {
   "cell_type": "code",
   "execution_count": 5,
   "metadata": {},
   "outputs": [
    {
     "name": "stdout",
     "output_type": "stream",
     "text": [
      "<html><head>\n",
      "<meta charset=\"utf-8\"/>\n",
      "<meta content=\"width=device-width, initial-scale=1\" name=\"viewport\"/>\n",
      "<link crossorigin=\"anonymous\" href=\"https://cdn.jsdelivr.net/npm/bootstrap@5.0.0-beta1/dist/css/bootstrap.min.css\" integrity=\"sha384-giJF6kkoqNQ00vy+HMDP7azOuL0xtbfIcaT9wjKHr8RbDVddVHyTfAAsrekwKmP1\" rel=\"stylesheet\"/>\n",
      "<link href=\"css/font.css\" rel=\"stylesheet\" type=\"text/css\"/>\n",
      "<link href=\"css/app.css\" rel=\"stylesheet\" type=\"text/css\"/>\n",
      "<link crossorigin=\"anonymous\" href=\"https://pro.fontawesome.com/releases/v5.10.0/css/all.css\" integrity=\"sha384-AYmEC3Yw5cVb3ZcuHtOA93w35dYTsvhLPVnYs9eStHfGJvOvKxVfELGroGkvsg+p\" rel=\"stylesheet\"/>\n",
      "<title>News - Mars Exploration Program</title>\n",
      "</head>\n",
      "<body>\n",
      "<div class=\"col-md-12\">\n",
      "<div class=\"row\">\n",
      "<nav class=\"navbar navbar-expand-lg navbar-light fixed-top\">\n",
      "<div class=\"container-fluid\">\n",
      "<a class=\"navbar-brand\" href=\"#\">\n",
      "<img src=\"image/nasa.png\" width=\"80\"/><span class=\"logo\">MARS Planet Science</span>\n",
      "<span class=\"logo1\">Exploration Program</span>\n",
      "</a>\n",
      "<button aria-controls=\"navbarNav\" aria-expanded=\"false\" aria-label=\"Toggle navigation\" class=\"navbar-toggler\" data-bs-target=\"#navbarNav\" data-bs-toggle=\"collapse\" type=\"button\">\n",
      "<span class=\"navbar-toggler-icon\"></span>\n",
      "</button>\n",
      "<div class=\"collapse navbar-collapse justify-content-end\" id=\"navbarNav\">\n",
      "<ul class=\"navbar-nav\">\n",
      "<li class=\"nav-item\">\n",
      "<a aria-current=\"page\" class=\"nav-link active\" href=\"#\">The Red Planet</a>\n",
      "</li>\n",
      "<li class=\"nav-item\">\n",
      "<a class=\"nav-link\" href=\"#\">The Program</a>\n",
      "</li>\n",
      "<li class=\"nav-item\">\n",
      "<a class=\"nav-link\" href=\"#\">News &amp; Events</a>\n",
      "</li>\n",
      "<li class=\"nav-item\">\n",
      "<a class=\"nav-link\" href=\"#\">Multimedia</a>\n",
      "</li>\n",
      "<li class=\"nav-item\">\n",
      "<a class=\"nav-link\" href=\"#\">Missions</a>\n",
      "</li>\n",
      "<li class=\"nav-item\">\n",
      "<a class=\"nav-link\" href=\"#\">More</a>\n",
      "</li>\n",
      "<li class=\"nav-item nav_search\">\n",
      "<a class=\"nav-link\" href=\"#\"></a>\n",
      "</li>\n",
      "</ul>\n",
      "</div>\n",
      "</div>\n",
      "</nav>\n",
      "<section class=\"search\">\n",
      "<div class=\"container\">\n",
      "<h1>News</h1>\n",
      "<div class=\"col-md-12 filter\">\n",
      "<div class=\"row\">\n",
      "<div class=\"col-md-3 search_binder\">\n",
      "<input class=\"search_field\" name=\"search\" type=\"text\"/>\n",
      "<input class=\"search_submit\" name=\"search\" type=\"text\"/>\n",
      "</div>\n",
      "<div class=\"col-md-3\">\n",
      "<select aria-label=\"Default select example\" class=\"form-select\" id=\"year\">\n",
      "<option selected=\"\">Latest</option>\n",
      "<option>2020</option><option>2019</option></select>\n",
      "</div>\n",
      "<div class=\"col-md-3\">\n",
      "<select aria-label=\"Default select example\" class=\"form-select\" id=\"cat\">\n",
      "<option selected=\"\">All Categories</option>\n",
      "<option>Feature Stories</option><option>Press Releases</option><option>Status Reports</option></select>\n",
      "</div>\n",
      "<div class=\"col-md-3\">\n",
      "</div>\n",
      "</div>\n",
      "</div>\n",
      "</div>\n",
      "</section>\n",
      "<section class=\"image_and_description_container\">\n",
      "<div class=\"container\" id=\"news\">\n",
      "<div class=\"col-md-12\">\n",
      "<hr/>\n",
      "<div class=\"row\">\n",
      "<div class=\"col-md-4\">\n",
      "<div class=\"list_image\">\n",
      "<img src=\"https://mars.nasa.gov/system/news_items/list_view_images/8588_name20190625-320x240.jpg\"/>\n",
      "</div>\n",
      "</div>\n",
      "<div class=\"col-md-8\">\n",
      "<div class=\"list_text\">\n",
      "<div class=\"list_date\">April 3, 2021</div>\n",
      "<div class=\"content_title\">Nine Finalists Chosen in NASA's Mars 2020 Rover Naming Contest</div>\n",
      "<div class=\"article_teaser_body\">Nine finalists have been chosen in the essay contest for K-12 students across U.S. to name NASA's next Mars rover. Now you can help by voting for your favorite. </div>\n",
      "</div>\n",
      "</div>\n",
      "</div>\n",
      "</div>\n",
      "<div class=\"col-md-12\">\n",
      "<hr/>\n",
      "<div class=\"row\">\n",
      "<div class=\"col-md-4\">\n",
      "<div class=\"list_image\">\n",
      "<img src=\"https://mars.nasa.gov/system/news_items/list_view_images/8612_Sol427-437_backcap_push_positioning-320x240.gif\"/>\n",
      "</div>\n",
      "</div>\n",
      "<div class=\"col-md-8\">\n",
      "<div class=\"list_text\">\n",
      "<div class=\"list_date\">April 2, 2021</div>\n",
      "<div class=\"content_title\">Mars InSight Lander to Push on Top of the 'Mole'</div>\n",
      "<div class=\"article_teaser_body\">Engineers have a plan for pushing down on the heat probe, which has been stuck at the Martian surface for a year.</div>\n",
      "</div>\n",
      "</div>\n",
      "</div>\n",
      "</div>\n",
      "<div class=\"col-md-12\">\n",
      "<hr/>\n",
      "<div class=\"row\">\n",
      "<div class=\"col-md-4\">\n",
      "<div class=\"list_image\">\n",
      "<img src=\"https://mars.nasa.gov/system/news_items/list_view_images/8595_mars_winds_preview_4-320x240.jpg\"/>\n",
      "</div>\n",
      "</div>\n",
      "<div class=\"col-md-8\">\n",
      "<div class=\"list_text\">\n",
      "<div class=\"list_date\">April 1, 2021</div>\n",
      "<div class=\"content_title\">NASA's MAVEN Maps Winds in the Martian Upper Atmosphere that Mirror the Terrain Below and Gives Clues to Martian Climate</div>\n",
      "<div class=\"article_teaser_body\">Researchers have created the first map of wind circulation in the upper atmosphere of a planet besides Earth, using data from NASA’s MAVEN spacecraft that were collected during the last two years.</div>\n",
      "</div>\n",
      "</div>\n",
      "</div>\n",
      "</div>\n",
      "<div class=\"col-md-12\">\n",
      "<hr/>\n",
      "<div class=\"row\">\n",
      "<div class=\"col-md-4\">\n",
      "<div class=\"list_image\">\n",
      "<img src=\"https://mars.nasa.gov/system/news_items/list_view_images/8508_Name_A_unannotated_MAIN-th.jpg\"/>\n",
      "</div>\n",
      "</div>\n",
      "<div class=\"col-md-8\">\n",
      "<div class=\"list_text\">\n",
      "<div class=\"list_date\">March 28, 2021</div>\n",
      "<div class=\"content_title\">NASA Invites Students to Name Mars 2020 Rover</div>\n",
      "<div class=\"article_teaser_body\">Through Nov. 1, K-12 students in the U.S. are encouraged to enter an essay contest to name NASA's next Mars rover.</div>\n",
      "</div>\n",
      "</div>\n",
      "</div>\n",
      "</div>\n",
      "<div class=\"col-md-12\">\n",
      "<hr/>\n",
      "<div class=\"row\">\n",
      "<div class=\"col-md-4\">\n",
      "<div class=\"list_image\">\n",
      "<img src=\"https://mars.nasa.gov/system/news_items/list_view_images/8782_PIA-23989-320.jpg\"/>\n",
      "</div>\n",
      "</div>\n",
      "<div class=\"col-md-8\">\n",
      "<div class=\"list_text\">\n",
      "<div class=\"list_date\">March 27, 2021</div>\n",
      "<div class=\"content_title\">Sensors on Mars 2020 Spacecraft Answer Long-Distance Call From Earth</div>\n",
      "<div class=\"article_teaser_body\">Instruments tailored to collect data during the descent of NASA's next rover through the Red Planet's atmosphere have been checked in flight.</div>\n",
      "</div>\n",
      "</div>\n",
      "</div>\n",
      "</div>\n",
      "<div class=\"col-md-12\">\n",
      "<hr/>\n",
      "<div class=\"row\">\n",
      "<div class=\"col-md-4\">\n",
      "<div class=\"list_image\">\n",
      "<img src=\"https://mars.nasa.gov/system/news_items/list_view_images/8666_PIA23776-main-320x240.jpg\"/>\n",
      "</div>\n",
      "</div>\n",
      "<div class=\"col-md-8\">\n",
      "<div class=\"list_text\">\n",
      "<div class=\"list_date\">March 26, 2021</div>\n",
      "<div class=\"content_title\">NASA Perseverance Mars Rover Scientists Train in the Nevada Desert</div>\n",
      "<div class=\"article_teaser_body\">Team members searched for signs of ancient microscopic life there, just as NASA's latest rover will on the Red Planet next year.</div>\n",
      "</div>\n",
      "</div>\n",
      "</div>\n",
      "</div>\n",
      "<div class=\"col-md-12\">\n",
      "<hr/>\n",
      "<div class=\"row\">\n",
      "<div class=\"col-md-4\">\n",
      "<div class=\"list_image\">\n",
      "<img src=\"https://mars.nasa.gov/system/news_items/list_view_images/8517_PIA23180-226.gif\"/>\n",
      "</div>\n",
      "</div>\n",
      "<div class=\"col-md-8\">\n",
      "<div class=\"list_text\">\n",
      "<div class=\"list_date\">March 21, 2021</div>\n",
      "<div class=\"content_title\">NASA's InSight 'Hears' Peculiar Sounds on Mars</div>\n",
      "<div class=\"article_teaser_body\">Listen to the marsquakes and other, less-expected sounds that the Mars lander has been detecting.</div>\n",
      "</div>\n",
      "</div>\n",
      "</div>\n",
      "</div>\n",
      "<div class=\"col-md-12\">\n",
      "<hr/>\n",
      "<div class=\"row\">\n",
      "<div class=\"col-md-4\">\n",
      "<div class=\"list_image\">\n",
      "<img src=\"https://mars.nasa.gov/system/news_items/list_view_images/8704_PIA23973-320x240.jpg\"/>\n",
      "</div>\n",
      "</div>\n",
      "<div class=\"col-md-8\">\n",
      "<div class=\"list_text\">\n",
      "<div class=\"list_date\">March 18, 2021</div>\n",
      "<div class=\"content_title\">Curiosity Mars Rover's Summer Road Trip Has Begun</div>\n",
      "<div class=\"article_teaser_body\">After more than a year in the \"clay-bearing unit,\" Curiosity is making a mile-long journey around some deep sand so that it can explore higher up Mount Sharp.</div>\n",
      "</div>\n",
      "</div>\n",
      "</div>\n",
      "</div>\n",
      "<div class=\"col-md-12\">\n",
      "<hr/>\n",
      "<div class=\"row\">\n",
      "<div class=\"col-md-4\">\n",
      "<div class=\"list_image\">\n",
      "<img src=\"https://mars.nasa.gov/system/news_items/list_view_images/8724_launchscreen-320x240.jpg\"/>\n",
      "</div>\n",
      "</div>\n",
      "<div class=\"col-md-8\">\n",
      "<div class=\"list_text\">\n",
      "<div class=\"list_date\">March 14, 2021</div>\n",
      "<div class=\"content_title\">NASA, ULA Launch Mars 2020 Perseverance Rover Mission to Red Planet</div>\n",
      "<div class=\"article_teaser_body\">The agency's Mars 2020 mission is on its way. It will land at Jezero Crater in about seven months, on Feb. 18, 2021. </div>\n",
      "</div>\n",
      "</div>\n",
      "</div>\n",
      "</div>\n",
      "<div class=\"col-md-12\">\n",
      "<hr/>\n",
      "<div class=\"row\">\n",
      "<div class=\"col-md-4\">\n",
      "<div class=\"list_image\">\n",
      "<img src=\"https://mars.nasa.gov/system/news_items/list_view_images/8675_Webby_main_320x240.jpg\"/>\n",
      "</div>\n",
      "</div>\n",
      "<div class=\"col-md-8\">\n",
      "<div class=\"list_text\">\n",
      "<div class=\"list_date\">March 13, 2021</div>\n",
      "<div class=\"content_title\">NASA Wins 4 Webbys, 4 People's Voice Awards</div>\n",
      "<div class=\"article_teaser_body\">Winners include the JPL-managed \"Send Your Name to Mars\" campaign, NASA's Global Climate Change website and Solar System Interactive.</div>\n",
      "</div>\n",
      "</div>\n",
      "</div>\n",
      "</div>\n",
      "<div class=\"col-md-12\">\n",
      "<hr/>\n",
      "<div class=\"row\">\n",
      "<div class=\"col-md-4\">\n",
      "<div class=\"list_image\">\n",
      "<img src=\"https://mars.nasa.gov/system/news_items/list_view_images/8601_PIA23316-320x240.jpg\"/>\n",
      "</div>\n",
      "</div>\n",
      "<div class=\"col-md-8\">\n",
      "<div class=\"list_text\">\n",
      "<div class=\"list_date\">March 11, 2021</div>\n",
      "<div class=\"content_title\">All About the Laser (and Microphone) Atop Mars 2020, NASA's Next Rover</div>\n",
      "<div class=\"article_teaser_body\">SuperCam is a rock-vaporizing instrument that will help scientists hunt for Mars fossils.</div>\n",
      "</div>\n",
      "</div>\n",
      "</div>\n",
      "</div>\n",
      "<div class=\"col-md-12\">\n",
      "<hr/>\n",
      "<div class=\"row\">\n",
      "<div class=\"col-md-4\">\n",
      "<div class=\"list_image\">\n",
      "<img src=\"https://mars.nasa.gov/system/news_items/list_view_images/8776_PIA24098-320.gif\"/>\n",
      "</div>\n",
      "</div>\n",
      "<div class=\"col-md-8\">\n",
      "<div class=\"list_text\">\n",
      "<div class=\"list_date\">March 10, 2021</div>\n",
      "<div class=\"content_title\">NASA InSight's 'Mole' Is Out of Sight</div>\n",
      "<div class=\"article_teaser_body\">Now that the heat probe is just below the Martian surface, InSight's arm will scoop some additional soil on top to help it keep digging so it can take Mars' temperature.</div>\n",
      "</div>\n",
      "</div>\n",
      "</div>\n",
      "</div>\n",
      "<div class=\"col-md-12\">\n",
      "<hr/>\n",
      "<div class=\"row\">\n",
      "<div class=\"col-md-4\">\n",
      "<div class=\"list_image\">\n",
      "<img src=\"https://mars.nasa.gov/system/news_items/list_view_images/8545_24679_PIA23470-1041_320x240px.jpg\"/>\n",
      "</div>\n",
      "</div>\n",
      "<div class=\"col-md-8\">\n",
      "<div class=\"list_text\">\n",
      "<div class=\"list_date\">March 6, 2021</div>\n",
      "<div class=\"content_title\">NASA's Mars 2020 Heads Into the Test Chamber</div>\n",
      "<div class=\"article_teaser_body\">In this time-lapse video taken at JPL, engineers move the Mars 2020 rover into a large vacuum chamber for testing in Mars-like environmental conditions.</div>\n",
      "</div>\n",
      "</div>\n",
      "</div>\n",
      "</div>\n",
      "<div class=\"col-md-12\">\n",
      "<hr/>\n",
      "<div class=\"row\">\n",
      "<div class=\"col-md-4\">\n",
      "<div class=\"list_image\">\n",
      "<img src=\"https://mars.nasa.gov/system/news_items/list_view_images/8619_8588_name20190625-320x240.jpg\"/>\n",
      "</div>\n",
      "</div>\n",
      "<div class=\"col-md-8\">\n",
      "<div class=\"list_text\">\n",
      "<div class=\"list_date\">March 5, 2021</div>\n",
      "<div class=\"content_title\">NASA to Reveal Name of Its Next Mars Rover</div>\n",
      "<div class=\"article_teaser_body\">After a months-long contest among students to name NASA's newest Mars rover, the agency will reveal the winning name — and the winning student — this Thursday. </div>\n",
      "</div>\n",
      "</div>\n",
      "</div>\n",
      "</div>\n",
      "<div class=\"col-md-12\">\n",
      "<hr/>\n",
      "<div class=\"row\">\n",
      "<div class=\"col-md-4\">\n",
      "<div class=\"list_image\">\n",
      "<img src=\"https://mars.nasa.gov/system/news_items/list_view_images/8503_PIA23319-MAIN-226.jpg\"/>\n",
      "</div>\n",
      "</div>\n",
      "<div class=\"col-md-8\">\n",
      "<div class=\"list_text\">\n",
      "<div class=\"list_date\">March 4, 2021</div>\n",
      "<div class=\"content_title\">Robotic Toolkit Added to NASA's Mars 2020 Rover</div>\n",
      "<div class=\"article_teaser_body\">The bit carousel, which lies at the heart of the rover's Sample Caching System, is now aboard NASA's newest rover. </div>\n",
      "</div>\n",
      "</div>\n",
      "</div>\n",
      "</div>\n",
      "</div>\n",
      "<hr class=\"container\" style=\"margin: 25px auto;width: 83%;\"/>\n",
      "<button class=\"btn disable\" id=\"more\" onclick=\"populateContent()\">More</button>\n",
      "</section>\n",
      "<section class=\"last_news\">\n",
      "<div class=\"container\">\n",
      "<div class=\"row\">\n",
      "<div class=\"col-12\">\n",
      "<h2>You Might Also Like</h2>\n",
      "</div>\n",
      "<!--  <a class=\" prev\" href=\"#carouselExampleIndicators2\" role=\"button\" data-slide=\"prev\">\n",
      "                  <i class=\"fas fa-angle-left\"></i>\n",
      "                  </a>\n",
      "                  <a class=\" next\" href=\"#carouselExampleIndicators2\" role=\"button\" data-slide=\"next\">\n",
      "                  <i class=\"fas fa-angle-right\"></i>\n",
      "                  </a> -->\n",
      "<div class=\"col-12\">\n",
      "<div class=\"carousel slide\" data-ride=\"carousel\" id=\"carouselExampleIndicators2\">\n",
      "<div class=\"carousel-inner\">\n",
      "<div class=\"carousel-item active\">\n",
      "<div class=\"row\">\n",
      "<div class=\"col-md-4 mb-3\">\n",
      "<div class=\"card\">\n",
      "<img alt=\"100%x280\" class=\"img-fluid\" src=\"https://mars.nasa.gov/system/news_items/main_images/8716_PIA23499-16.jpg\"/>\n",
      "<div class=\"card-body\">\n",
      "<p class=\"card-text\">NASA to Broadcast Mars 2020 Perseverance Launch, Prelaunch Activities</p>\n",
      "</div>\n",
      "</div>\n",
      "</div>\n",
      "<div class=\"col-md-4 mb-3\">\n",
      "<div class=\"card\">\n",
      "<img alt=\"100%x280\" class=\"img-fluid\" src=\"https://mars.nasa.gov/system/news_items/main_images/8716_PIA23499-16.jpg\"/>\n",
      "<div class=\"card-body\">\n",
      "<p class=\"card-text\">The Launch Is Approaching for NASA's Next Mars Rover, Perseverance</p>\n",
      "</div>\n",
      "</div>\n",
      "</div>\n",
      "<div class=\"col-md-4 mb-3\">\n",
      "<div class=\"card\">\n",
      "<img alt=\"100%x280\" class=\"img-fluid\" src=\"https://mars.nasa.gov/system/news_items/main_images/8692_PIA23920-web.jpg\"/>\n",
      "<div class=\"card-body\">\n",
      "<p class=\"card-text\">NASA to Hold Mars 2020 Perseverance Rover Launch Briefing</p>\n",
      "</div>\n",
      "</div>\n",
      "</div>\n",
      "</div>\n",
      "</div>\n",
      "<div class=\"carousel-item\">\n",
      "<div class=\"row\">\n",
      "<div class=\"col-md-4 mb-3\">\n",
      "<div class=\"card\">\n",
      "<img alt=\"100%x280\" class=\"img-fluid\" src=\"https://images.unsplash.com/photo-1532771098148-525cefe10c23?ixlib=rb-0.3.5&amp;q=80&amp;fm=jpg&amp;crop=entropy&amp;cs=tinysrgb&amp;w=1080&amp;fit=max&amp;ixid=eyJhcHBfaWQiOjMyMDc0fQ&amp;s=3f317c1f7a16116dec454fbc267dd8e4\"/>\n",
      "<div class=\"card-body\">\n",
      "<p class=\"card-text\">With supporting text below as a natural lead-in to additional content.</p>\n",
      "</div>\n",
      "</div>\n",
      "</div>\n",
      "<div class=\"col-md-4 mb-3\">\n",
      "<div class=\"card\">\n",
      "<img alt=\"100%x280\" class=\"img-fluid\" src=\"https://images.unsplash.com/photo-1532715088550-62f09305f765?ixlib=rb-0.3.5&amp;q=80&amp;fm=jpg&amp;crop=entropy&amp;cs=tinysrgb&amp;w=1080&amp;fit=max&amp;ixid=eyJhcHBfaWQiOjMyMDc0fQ&amp;s=ebadb044b374504ef8e81bdec4d0e840\"/>\n",
      "<div class=\"card-body\">\n",
      "<p class=\"card-text\">With supporting text below as a natural lead-in to additional content.</p>\n",
      "</div>\n",
      "</div>\n",
      "</div>\n",
      "<div class=\"col-md-4 mb-3\">\n",
      "<div class=\"card\">\n",
      "<img alt=\"100%x280\" class=\"img-fluid\" src=\"https://images.unsplash.com/photo-1506197603052-3cc9c3a201bd?ixlib=rb-0.3.5&amp;q=80&amp;fm=jpg&amp;crop=entropy&amp;cs=tinysrgb&amp;w=1080&amp;fit=max&amp;ixid=eyJhcHBfaWQiOjMyMDc0fQ&amp;s=0754ab085804ae8a3b562548e6b4aa2e\"/>\n",
      "<div class=\"card-body\">\n",
      "<p class=\"card-text\">With supporting text below as a natural lead-in to additional content.</p>\n",
      "</div>\n",
      "</div>\n",
      "</div>\n",
      "</div>\n",
      "</div>\n",
      "<div class=\"carousel-item\">\n",
      "<div class=\"row\">\n",
      "<div class=\"col-md-4 mb-3\">\n",
      "<div class=\"card\">\n",
      "<img alt=\"100%x280\" class=\"img-fluid\" src=\"https://images.unsplash.com/photo-1507525428034-b723cf961d3e?ixlib=rb-0.3.5&amp;q=80&amp;fm=jpg&amp;crop=entropy&amp;cs=tinysrgb&amp;w=1080&amp;fit=max&amp;ixid=eyJhcHBfaWQiOjMyMDc0fQ&amp;s=ee8417f0ea2a50d53a12665820b54e23\"/>\n",
      "<div class=\"card-body\">\n",
      "<p class=\"card-text\">With supporting text below as a natural lead-in to additional content.</p>\n",
      "</div>\n",
      "</div>\n",
      "</div>\n",
      "<div class=\"col-md-4 mb-3\">\n",
      "<div class=\"card\">\n",
      "<img alt=\"100%x280\" class=\"img-fluid\" src=\"https://images.unsplash.com/photo-1532777946373-b6783242f211?ixlib=rb-0.3.5&amp;q=80&amp;fm=jpg&amp;crop=entropy&amp;cs=tinysrgb&amp;w=1080&amp;fit=max&amp;ixid=eyJhcHBfaWQiOjMyMDc0fQ&amp;s=8ac55cf3a68785643998730839663129\"/>\n",
      "<div class=\"card-body\">\n",
      "<p class=\"card-text\">With supporting text below as a natural lead-in to additional content.</p>\n",
      "</div>\n",
      "</div>\n",
      "</div>\n",
      "<div class=\"col-md-4 mb-3\">\n",
      "<div class=\"card\">\n",
      "<img alt=\"100%x280\" class=\"img-fluid\" src=\"https://images.unsplash.com/photo-1532763303805-529d595877c5?ixlib=rb-0.3.5&amp;q=80&amp;fm=jpg&amp;crop=entropy&amp;cs=tinysrgb&amp;w=1080&amp;fit=max&amp;ixid=eyJhcHBfaWQiOjMyMDc0fQ&amp;s=5ee4fd5d19b40f93eadb21871757eda6\"/>\n",
      "<div class=\"card-body\">\n",
      "<p class=\"card-text\">With supporting text below as a natural lead-in to additional content.</p>\n",
      "</div>\n",
      "</div>\n",
      "</div>\n",
      "</div>\n",
      "</div>\n",
      "</div>\n",
      "</div>\n",
      "</div>\n",
      "</div>\n",
      "</div>\n",
      "</section>\n",
      "<section class=\"footer\">\n",
      "<div class=\"container\">\n",
      "<div class=\"col-md-12\">\n",
      "<div class=\"row\">\n",
      "<div class=\"col-md-3\">\n",
      "<h5>The Red Planet</h5>\n",
      "<ul>\n",
      "<li>Dashboard</li>\n",
      "<li>Science Goals</li>\n",
      "<li>The Planet</li>\n",
      "</ul>\n",
      "</div>\n",
      "<div class=\"col-md-3\">\n",
      "<h5>The Program</h5>\n",
      "<ul>\n",
      "<li>Mission Statement</li>\n",
      "<li>About the Program</li>\n",
      "<li>Organization Why Mars?</li>\n",
      "</ul>\n",
      "</div>\n",
      "<div class=\"col-md-3\">\n",
      "<h5>Multimedia</h5>\n",
      "<ul>\n",
      "<li>Images</li>\n",
      "<li>Videos</li>\n",
      "<li>More Resources</li>\n",
      "</ul>\n",
      "</div>\n",
      "<div class=\"col-md-3\">\n",
      "<h5>Missions</h5>\n",
      "<ul>\n",
      "<li>Past</li>\n",
      "<li>Present</li>\n",
      "<li>Future</li>\n",
      "</ul>\n",
      "</div>\n",
      "</div>\n",
      "</div>\n",
      "</div>\n",
      "</section>\n",
      "<script src=\"https://code.jquery.com/jquery-1.12.4.min.js\" type=\"text/javascript\"></script>\n",
      "<script src=\"https://cdn.jsdelivr.net/npm/@popperjs/core@2.5.4/dist/umd/popper.min.js\"></script>\n",
      "<script src=\"https://cdn.jsdelivr.net/npm/bootstrap@5.0.0-beta1/dist/js/bootstrap.min.js\"></script>\n",
      "<script src=\"js/app.js\"></script>\n",
      "</div></div></body></html>\n"
     ]
    }
   ],
   "source": [
    "print(soup)"
   ]
  },
  {
   "cell_type": "code",
   "execution_count": 6,
   "metadata": {},
   "outputs": [
    {
     "name": "stdout",
     "output_type": "stream",
     "text": [
      "Nine Finalists Chosen in NASA's Mars 2020 Rover Naming Contest\n"
     ]
    }
   ],
   "source": [
    "# Scrape the Mars News Site and collect the latest News Title.\n",
    "news_title = soup.find(\"div\", class_=\"content_title\").text\n",
    "print(news_title)"
   ]
  },
  {
   "cell_type": "code",
   "execution_count": 7,
   "metadata": {},
   "outputs": [
    {
     "name": "stdout",
     "output_type": "stream",
     "text": [
      "Nine finalists have been chosen in the essay contest for K-12 students across U.S. to name NASA's next Mars rover. Now you can help by voting for your favorite. \n"
     ]
    }
   ],
   "source": [
    "# Scrape the Mars News Site and collect the latest Paragraph Text.\n",
    "paragraph_text = soup.find(\"div\", class_=\"article_teaser_body\").text\n",
    "print(paragraph_text)"
   ]
  },
  {
   "cell_type": "code",
   "execution_count": 8,
   "metadata": {},
   "outputs": [
    {
     "name": "stdout",
     "output_type": "stream",
     "text": [
      "Title:\n",
      "\n",
      "Nine Finalists Chosen in NASA's Mars 2020 Rover Naming Contest\n",
      "\n",
      "-------------------------------------------------------\n",
      "\n",
      "Paragraph:\n",
      "\n",
      "Nine finalists have been chosen in the essay contest for K-12 students across U.S. to name NASA's next Mars rover. Now you can help by voting for your favorite. \n"
     ]
    }
   ],
   "source": [
    "print(f\"Title:\\n\\n{news_title}\")\n",
    "print(\"\\n-------------------------------------------------------\\n\")\n",
    "print(f\"Paragraph:\\n\\n{paragraph_text}\")"
   ]
  },
  {
   "cell_type": "code",
   "execution_count": 9,
   "metadata": {},
   "outputs": [],
   "source": [
    "# Closes https://redplanetscience.com\n",
    "browser.quit()"
   ]
  },
  {
   "cell_type": "markdown",
   "metadata": {},
   "source": [
    "<h2>JPL Mars Space Images - Featured Image<h2>"
   ]
  },
  {
   "cell_type": "code",
   "execution_count": 10,
   "metadata": {},
   "outputs": [
    {
     "name": "stderr",
     "output_type": "stream",
     "text": [
      "[WDM] - ====== WebDriver manager ======\n",
      "[WDM] - Current google-chrome version is 89.0.4389\n",
      "[WDM] - Get LATEST driver version for 89.0.4389\n"
     ]
    },
    {
     "name": "stdout",
     "output_type": "stream",
     "text": [
      "\n",
      "\n"
     ]
    },
    {
     "name": "stderr",
     "output_type": "stream",
     "text": [
      "[WDM] - Driver [C:\\Users\\Owner\\.wdm\\drivers\\chromedriver\\win32\\89.0.4389.23\\chromedriver.exe] found in cache\n"
     ]
    }
   ],
   "source": [
    "executable_path = {'executable_path': ChromeDriverManager().install()}\n",
    "browser = Browser('chrome', **executable_path, headless=False)"
   ]
  },
  {
   "cell_type": "code",
   "execution_count": 11,
   "metadata": {},
   "outputs": [],
   "source": [
    "jpl_images_site = \"https://spaceimages-mars.com/\"\n",
    "browser.visit(jpl_images_site)"
   ]
  },
  {
   "cell_type": "code",
   "execution_count": 12,
   "metadata": {
    "scrolled": false
   },
   "outputs": [
    {
     "data": {
      "text/plain": [
       "'<html class=\"\">\\n <head>\\n  <meta charset=\"utf-8\"/>\\n  <meta content=\"width=device-width, initial-scale=1\" name=\"viewport\"/>\\n  <link href=\"https://maxcdn.bootstrapcdn.com/bootstrap/4.0.0/css/bootstrap.min.css\" rel=\"stylesheet\"/>\\n  <!-- <link rel=\"stylesheet\" type=\"text/css\" href=\"css/font.css\"> -->\\n  <link href=\"css/app.css\" rel=\"stylesheet\" type=\"text/css\"/>\\n  <link href=\"https://stackpath.bootstrapcdn.com/font-awesome/4.7.0/css/font-awesome.min.css\" rel=\"stylesheet\" type=\"text/css\"/>\\n  <title>\\n   Space Image\\n  </title>\\n  <style type=\"text/css\">\\n   .fancybox-margin{margin-right:17px;}\\n  </style>\\n </head>\\n <body>\\n  <div class=\"header\">\\n   <nav class=\"navbar navbar-expand-lg\">\\n    <a class=\"navbar-brand\" href=\"#\">\\n     <img id=\"logo\" src=\"image/nasa.png\"/>\\n     <span class=\"logo\">\\n      Jet Propulsion Laboratory\\n     </span>\\n     <span class=\"logo1\">\\n      California Institute of Technology\\n     </span>\\n    </a>\\n    <button aria-controls=\"navbarNav\" aria-expanded=\"false\" aria-label=\"Toggle navigation\" class=\"navbar-toggler\" data-target=\"#navbarNav\" data-toggle=\"collapse\" type=\"button\">\\n     <span class=\"navbar-toggler-icon\">\\n     </span>\\n    </button>\\n    <div class=\"collapse navbar-collapse justify-content-end\" id=\"navbarNav\">\\n     <ul class=\"navbar-nav\">\\n      <li class=\"nav-item active\">\\n       <a class=\"nav-link\" href=\"#\">\\n        <i aria-hidden=\"true\" class=\"fa fa-bars\">\\n        </i>\\n        MENU\\n        <i aria-hidden=\"true\" class=\"fa fa-search\">\\n        </i>\\n       </a>\\n      </li>\\n     </ul>\\n    </div>\\n   </nav>\\n   <div class=\"floating_text_area\">\\n    <h2 class=\"brand_title\">\\n     FEATURED IMAGE\\n    </h2>\\n    <h1 class=\"media_feature_title\">\\n     Dusty Space Cloud\\n    </h1>\\n    <br/>\\n    <a class=\"showimg fancybox-thumbs\" href=\"image/featured/mars3.jpg\" target=\"_blank\">\\n     <button class=\"btn btn-outline-light\">\\n      FULL IMAGE\\n     </button>\\n    </a>\\n   </div>\\n   <img class=\"headerimage fade-in\" src=\"image/featured/mars3.jpg\"/>\\n  </div>\\n  <div class=\"search sticky\">\\n   <div class=\"col-md-12\">\\n    <div class=\"row\">\\n     <div class=\"col-md-6\">\\n      <input name=\"Search\" placeholder=\"Search\" type=\"text\"/>\\n     </div>\\n     <div class=\"col-md-6\">\\n      <select aria-label=\"Default select example\" class=\"form-select\" id=\"options\">\\n       <option onchange=\"0\" selected=\"\">\\n        Mars\\n       </option>\\n       <!-- <option data-filter=\"sun\" class=\"button\">Mars</option> -->\\n       <option class=\"button\" data-filter=\"Sun\">\\n        Sun\\n       </option>\\n       <option class=\"button\" data-filter=\"earth\">\\n        Earth\\n       </option>\\n       <option class=\"button\" data-filter=\"ida\">\\n        Ida\\n       </option>\\n       <option class=\"button\" data-filter=\"jupiter\">\\n        Jupiter\\n       </option>\\n       <option class=\"button\" data-filter=\"venus\">\\n        Venus\\n       </option>\\n      </select>\\n     </div>\\n    </div>\\n   </div>\\n  </div>\\n  <div class=\"container mt-5\">\\n   <div class=\"col-md-12\">\\n    <div class=\"row\">\\n     <div class=\"col-md-6\">\\n      <h1>\\n       Images\\n      </h1>\\n     </div>\\n     <div class=\"col-md-6\" id=\"icon\">\\n      <div class=\"icon2\">\\n      </div>\\n      <div class=\"icon1\">\\n      </div>\\n     </div>\\n    </div>\\n   </div>\\n   <!-- first div -->\\n   <div class=\"div1\" id=\"filter\">\\n    <div class=\"thmbgroup\">\\n     <a class=\"fancybox-thumbs\" data-fancybox-group=\"thumb\" href=\"image/mars/Icaria Fossae7.jpg\">\\n      <div class=\"thmb\">\\n       <img alt=\"\" class=\"thumbimg\" src=\"image/mars/Icaria Fossae7.jpg\"/>\\n       <p class=\"thumbcontent\">\\n        January 1, 2020\\n        <br/>\\n        Icaria Fossae7\\n       </p>\\n      </div>\\n     </a>\\n     <a class=\"fancybox-thumbs\" data-fancybox-group=\"thumb\" href=\"image/mars/Proctor Crater Dunes 7.jpg\">\\n      <div class=\"thmb\">\\n       <img alt=\"\" class=\"thumbimg\" src=\"image/mars/Proctor Crater Dunes 7.jpg\"/>\\n       <p class=\"thumbcontent\">\\n        December 31, 2020\\n        <br/>\\n        Proctor Crater Dunes\\n       </p>\\n      </div>\\n     </a>\\n     <a class=\"fancybox-thumbs\" data-fancybox-group=\"thumb\" href=\"image/mars/Icaria Fossae7.jpg\">\\n      <div class=\"thmb\">\\n       <img alt=\"\" class=\"thumbimg\" src=\"image/mars/Icaria Fossae7.jpg\"/>\\n       <p class=\"thumbcontent\">\\n        December 31, 2020\\n        <br/>\\n        Icaria Fossae\\n       </p>\\n      </div>\\n     </a>\\n     <a class=\"fancybox-thumbs\" data-fancybox-group=\"thumb\" href=\"image/mars/Proctor Crater Dunes 7.jpg\">\\n      <div class=\"thmb\">\\n       <img alt=\"\" class=\"thumbimg\" src=\"image/mars/Proctor Crater Dunes 7.jpg\"/>\\n       <p class=\"thumbcontent\">\\n        December 29, 2020\\n        <br/>\\n        Proctor Crater Dunes\\n       </p>\\n      </div>\\n     </a>\\n     <a class=\"fancybox-thumbs\" data-fancybox-group=\"thumb\" href=\"image/mars/Proctor Crater Dunes 7.jpg\">\\n      <div class=\"thmb\">\\n       <img alt=\"\" class=\"thumbimg\" src=\"image/mars/Proctor Crater Dunes 7.jpg\"/>\\n       <p class=\"thumbcontent\">\\n        December 28, 2020\\n        <br/>\\n        roctor Crater Dunes\\n       </p>\\n      </div>\\n     </a>\\n     <a class=\"fancybox-thumbs\" data-fancybox-group=\"thumb\" href=\"image/mars/Icaria Fossae7.jpg\">\\n      <div class=\"thmb\">\\n       <img alt=\"\" class=\"thumbimg\" src=\"image/mars/Icaria Fossae7.jpg\"/>\\n       <p class=\"thumbcontent\">\\n        December 22, 2020\\n        <br/>\\n        Icaria Fossae\\n       </p>\\n      </div>\\n     </a>\\n     <a class=\"fancybox-thumbs\" data-fancybox-group=\"thumb\" href=\"image/mars/Icaria Fossae.jpg\">\\n      <div class=\"thmb\">\\n       <img alt=\"\" class=\"thumbimg\" src=\"image/mars/Icaria Fossae.jpg\"/>\\n       <p class=\"thumbcontent\">\\n        December 21, 2020\\n        <br/>\\n        Icaria Fossae\\n       </p>\\n      </div>\\n     </a>\\n     <a class=\"fancybox-thumbs\" data-fancybox-group=\"thumb\" href=\"image/mars/Ariadnes Colles4.jpg\">\\n      <div class=\"thmb\">\\n       <img alt=\"\" class=\"thumbimg\" src=\"image/mars/Ariadnes Colles4.jpg\"/>\\n       <p class=\"thumbcontent\">\\n        December 18, 2020\\n        <br/>\\n        Ariadnes Colles\\n       </p>\\n      </div>\\n     </a>\\n     <a class=\"fancybox-thumbs\" data-fancybox-group=\"thumb\" href=\"image/mars/Niger Vallis.jpg\">\\n      <div class=\"thmb\">\\n       <img alt=\"\" class=\"thumbimg\" src=\"image/mars/Niger Vallis.jpg\"/>\\n       <p class=\"thumbcontent\">\\n        December 17, 2020\\n        <br/>\\n        Niger Vallis\\n       </p>\\n      </div>\\n     </a>\\n     <a class=\"fancybox-thumbs\" data-fancybox-group=\"thumb\" href=\"image/mars/Proctor Crater Dunes.jpg\">\\n      <div class=\"thmb\">\\n       <img alt=\"\" class=\"thumbimg\" src=\"image/mars/Proctor Crater Dunes.jpg\"/>\\n       <p class=\"thumbcontent\">\\n        December 16, 2020\\n        <br/>\\n        Proctor Crater Dunes\\n       </p>\\n      </div>\\n     </a>\\n     <a class=\"fancybox-thumbs\" data-fancybox-group=\"thumb\" href=\"image/mars/Niger Vallis.jpg\">\\n      <div class=\"thmb\">\\n       <img alt=\"\" class=\"thumbimg\" src=\"image/mars/Niger Vallis.jpg\"/>\\n       <p class=\"thumbcontent\">\\n        December 15, 2020\\n        <br/>\\n        Niger Vallis\\n       </p>\\n      </div>\\n     </a>\\n     <a class=\"fancybox-thumbs\" data-fancybox-group=\"thumb\" href=\"image/mars/Daedalia Planum.jpg\">\\n      <div class=\"thmb\">\\n       <img alt=\"\" class=\"thumbimg\" src=\"image/mars/Daedalia Planum.jpg\"/>\\n       <p class=\"thumbcontent\">\\n        December 11, 2020\\n        <br/>\\n        Daedalia Planum\\n       </p>\\n      </div>\\n     </a>\\n     <a class=\"fancybox-thumbs\" data-fancybox-group=\"thumb\" href=\"image/mars/Sirenum Fossae.jpg\">\\n      <div class=\"thmb\">\\n       <img alt=\"\" class=\"thumbimg\" src=\"image/mars/Sirenum Fossae.jpg\"/>\\n       <p class=\"thumbcontent\">\\n        November,11, 2020\\n        <br/>\\n        Sirenum Fossae\\n       </p>\\n      </div>\\n     </a>\\n     <a class=\"fancybox-thumbs\" data-fancybox-group=\"thumb\" href=\"image/mars/Ariadnes Colles4.jpg\">\\n      <div class=\"thmb\">\\n       <img alt=\"\" class=\"thumbimg\" src=\"image/mars/Ariadnes Colles4.jpg\"/>\\n       <p class=\"thumbcontent\">\\n        November,13, 2020\\n        <br/>\\n        Ariadnes Colles\\n       </p>\\n      </div>\\n     </a>\\n     <a class=\"fancybox-thumbs\" data-fancybox-group=\"thumb\" href=\"image/mars/South Polar Cap.jpg\">\\n      <div class=\"thmb\">\\n       <img alt=\"\" class=\"thumbimg\" src=\"image/mars/South Polar Cap.jpg\"/>\\n       <p class=\"thumbcontent\">\\n        November,14, 2020\\n        <br/>\\n        South Polar Cap\\n       </p>\\n      </div>\\n     </a>\\n     <a class=\"fancybox-thumbs\" data-fancybox-group=\"thumb\" href=\"image/mars/Daedalia Planum.jpg\">\\n      <div class=\"thmb\">\\n       <img alt=\"\" class=\"thumbimg\" src=\"image/mars/Daedalia Planum.jpg\"/>\\n       <p class=\"thumbcontent\">\\n        November,17, 2020\\n        <br/>\\n        Daedalia Planum\\n       </p>\\n      </div>\\n     </a>\\n     <a class=\"fancybox-thumbs\" data-fancybox-group=\"thumb\" href=\"image/mars/Ariadnes Colles3.jpg\">\\n      <div class=\"thmb\">\\n       <img alt=\"\" class=\"thumbimg\" src=\"image/mars/Ariadnes Colles3.jpg\"/>\\n       <p class=\"thumbcontent\">\\n        November,11, 2020\\n        <br/>\\n        Ariadnes Colles\\n       </p>\\n      </div>\\n     </a>\\n     <a class=\"fancybox-thumbs\" data-fancybox-group=\"thumb\" href=\"image/mars/Atlantis Chaos.jpg\">\\n      <div class=\"thmb\">\\n       <img alt=\"\" class=\"thumbimg\" src=\"image/mars/Atlantis Chaos.jpg\"/>\\n       <p class=\"thumbcontent\">\\n        November,09, 2020\\n        <br/>\\n        Atlantis Chaos\\n       </p>\\n      </div>\\n     </a>\\n     <a class=\"fancybox-thumbs\" data-fancybox-group=\"thumb\" href=\"image/mars/Daedalia Planum.jpg\">\\n      <div class=\"thmb\">\\n       <img alt=\"\" class=\"thumbimg\" src=\"image/mars/Daedalia Planum.jpg\"/>\\n       <p class=\"thumbcontent\">\\n        January 1, 2020\\n        <br/>\\n        Daedalia Planum\\n       </p>\\n      </div>\\n     </a>\\n     <a class=\"fancybox-thumbs\" data-fancybox-group=\"thumb\" href=\"image/mars/Icaria Fossae.jpg\">\\n      <div class=\"thmb\">\\n       <img alt=\"\" class=\"thumbimg\" src=\"image/mars/Icaria Fossae.jpg\"/>\\n       <p class=\"thumbcontent\">\\n        January 1, 2020\\n        <br/>\\n        Icaria Fossae\\n       </p>\\n      </div>\\n     </a>\\n     <a class=\"fancybox-thumbs\" data-fancybox-group=\"thumb\" href=\"image/mars/Niger Vallis.jpg\">\\n      <div class=\"thmb\">\\n       <img alt=\"\" class=\"thumbimg\" src=\"image/mars/Niger Vallis.jpg\"/>\\n       <p class=\"thumbcontent\">\\n        January 1, 2020\\n        <br/>\\n        Niger Vallis\\n       </p>\\n      </div>\\n     </a>\\n     <a class=\"fancybox-thumbs\" data-fancybox-group=\"thumb\" href=\"image/mars/Proctor Crater Dunes.jpg\">\\n      <div class=\"thmb\">\\n       <img alt=\"\" class=\"thumbimg\" src=\"image/mars/Proctor Crater Dunes.jpg\"/>\\n       <p class=\"thumbcontent\">\\n        January 1, 2020\\n        <br/>\\n        Proctor Crater Dunes\\n       </p>\\n      </div>\\n     </a>\\n     <a class=\"fancybox-thumbs\" data-fancybox-group=\"thumb\" href=\"image/mars/Reull Vallis.jpg\">\\n      <div class=\"thmb\">\\n       <img alt=\"\" class=\"thumbimg\" src=\"image/mars/Reull Vallis.jpg\"/>\\n       <p class=\"thumbcontent\">\\n        January 1, 2020\\n        <br/>\\n        Reull Vallis\\n       </p>\\n      </div>\\n     </a>\\n     <a class=\"fancybox-thumbs\" data-fancybox-group=\"thumb\" href=\"image/mars/Ariadnes Colles3.jpg\">\\n      <div class=\"thmb\">\\n       <img alt=\"\" class=\"thumbimg\" src=\"image/mars/Ariadnes Colles3.jpg\"/>\\n       <p class=\"thumbcontent\">\\n        January 1, 2020\\n        <br/>\\n        Ariadnes Colles\\n       </p>\\n      </div>\\n     </a>\\n     <a class=\"fancybox-thumbs\" data-fancybox-group=\"thumb\" href=\"image/mars/Sirenum Fossae.jpg\">\\n      <div class=\"thmb\">\\n       <img alt=\"\" class=\"thumbimg\" src=\"image/mars/Sirenum Fossae.jpg\"/>\\n       <p class=\"thumbcontent\">\\n        January 1, 2020\\n        <br/>\\n        Sirenum Fossae\\n       </p>\\n      </div>\\n     </a>\\n     <a class=\"fancybox-thumbs\" data-fancybox-group=\"thumb\" href=\"image/mars/South Polar Cap.jpg\">\\n      <div class=\"thmb\">\\n       <img alt=\"\" class=\"thumbimg\" src=\"image/mars/South Polar Cap.jpg\"/>\\n       <p class=\"thumbcontent\">\\n        January 1, 2020\\n        <br/>\\n        South Polar Cap\\n       </p>\\n      </div>\\n     </a>\\n     <a class=\"fancybox-thumbs\" data-fancybox-group=\"thumb\" href=\"image/mars/Niger Vallis.jpg\">\\n      <div class=\"thmb\">\\n       <img alt=\"\" class=\"thumbimg\" src=\"image/mars/Niger Vallis.jpg\"/>\\n       <p class=\"thumbcontent\">\\n        January 1, 2020\\n        <br/>\\n        Niger Vallis\\n       </p>\\n      </div>\\n     </a>\\n     <a class=\"fancybox-thumbs\" data-fancybox-group=\"thumb\" href=\"image/mars/Daedalia Planum.jpg\">\\n      <div class=\"thmb\">\\n       <img alt=\"\" class=\"thumbimg\" src=\"image/mars/Daedalia Planum.jpg\"/>\\n       <p class=\"thumbcontent\">\\n        January 1, 2020\\n        <br/>\\n        Daedalia Planum\\n       </p>\\n      </div>\\n     </a>\\n     <a class=\"fancybox-thumbs\" data-fancybox-group=\"thumb\" href=\"image/mars/Icaria Fossae.jpg\">\\n      <div class=\"thmb\">\\n       <img alt=\"\" class=\"thumbimg\" src=\"image/mars/Icaria Fossae.jpg\"/>\\n       <p class=\"thumbcontent\">\\n        January 1, 2020\\n        <br/>\\n        Icaria Fossae\\n       </p>\\n      </div>\\n     </a>\\n     <a class=\"fancybox-thumbs\" data-fancybox-group=\"thumb\" href=\"image/mars/Ariadnes Colles4.jpg\">\\n      <div class=\"thmb\">\\n       <img alt=\"\" class=\"thumbimg\" src=\"image/mars/Ariadnes Colles4.jpg\"/>\\n       <p class=\"thumbcontent\">\\n        January 1, 2020\\n        <br/>\\n        Ariadnes Colles\\n       </p>\\n      </div>\\n     </a>\\n     <a class=\"fancybox-thumbs\" data-fancybox-group=\"thumb\" href=\"image/mars/South Polar Cap.jpg\">\\n      <div class=\"thmb\">\\n       <img alt=\"\" class=\"thumbimg\" src=\"image/mars/South Polar Cap.jpg\"/>\\n       <p class=\"thumbcontent\">\\n        January 1, 2020\\n        <br/>\\n        South Polar Cap\\n       </p>\\n      </div>\\n     </a>\\n     <a class=\"fancybox-thumbs\" data-fancybox-group=\"thumb\" href=\"image/mars/Daedalia Planum.jpg\">\\n      <div class=\"thmb\">\\n       <img alt=\"\" class=\"thumbimg\" src=\"image/mars/Daedalia Planum.jpg\"/>\\n       <p class=\"thumbcontent\">\\n        January 1, 2020\\n        <br/>\\n        Daedalia Planum\\n       </p>\\n      </div>\\n     </a>\\n    </div>\\n   </div>\\n   <!-- first div ends -->\\n   <!-- second div starts -->\\n   <div class=\"col-md-12 grid-margin\" id=\"column\">\\n    <ul class=\"post-list\">\\n     <li class=\"post-heading\">\\n     </li>\\n    </ul>\\n   </div>\\n   <!-- second div starts -->\\n  </div>\\n  <div class=\"first imgcontainer mt-3\">\\n   <div class=\"col-md-12\">\\n    <div class=\"row\">\\n     <div class=\"col-md-3\">\\n      <img id=\"pic\" src=\"\"/>\\n     </div>\\n    </div>\\n   </div>\\n  </div>\\n  <!-- end -->\\n  <div class=\"module_gallery container\">\\n   <div class=\"col-md-12\">\\n    <div class=\"row\">\\n     <div class=\"col-md-6\">\\n      <div class=\"card\">\\n       <img alt=\"Card image cap\" class=\"card-img-top\" src=\"https://www.jpl.nasa.gov/assets/images/content/tmp/images/jpl_photojournal(3x1).jpg\"/>\\n       <div class=\"card-body\">\\n        <h5 class=\"card-title\">\\n         JPL Photojournal\\n        </h5>\\n        <p class=\"card-text\">\\n         Access to the full library of publicly released images from various Solar System exploration programs\\n        </p>\\n       </div>\\n      </div>\\n     </div>\\n     <div class=\"col-md-6\">\\n      <div class=\"card\">\\n       <img alt=\"Card image cap\" class=\"card-img-top\" src=\"https://www.jpl.nasa.gov/assets/images/content/tmp/images/nasa_images(3x1).jpg\"/>\\n       <div class=\"card-body\">\\n        <h5 class=\"card-title\">\\n         Great images in NASA\\n        </h5>\\n        <p class=\"card-text\">\\n         A selection of the best-known images from a half-century of exploration and discovery\\n        </p>\\n       </div>\\n      </div>\\n     </div>\\n    </div>\\n   </div>\\n  </div>\\n  <div class=\"multi_teaser\">\\n   <div class=\"container\">\\n    <h1>\\n     You Might Also Like\\n    </h1>\\n    <div class=\"col-md-12 mt-5\">\\n     <div class=\"row\">\\n      <div class=\"col-md-4\">\\n       <div class=\"card\">\\n        <img alt=\"Card image cap\" class=\"card-img-top\" src=\"https://imagecache.jpl.nasa.gov/images/640x350/C1-PIA24304---CatScanMars-16-640x350.gif\"/>\\n        <div class=\"card-body\">\\n         <p class=\"card-text\">\\n          Access to the full library of publicly released images from various Solar System exploration programs\\n         </p>\\n        </div>\\n       </div>\\n      </div>\\n      <div class=\"col-md-4\">\\n       <div class=\"card\">\\n        <img alt=\"Card image cap\" class=\"card-img-top\" src=\"https://imagecache.jpl.nasa.gov/images/640x350/PIA23491-16-640x350.jpg\"/>\\n        <div class=\"card-body\">\\n         <p class=\"card-text\">\\n          Access to the full library of publicly released images from various Solar System exploration programs\\n         </p>\\n        </div>\\n       </div>\\n      </div>\\n      <div class=\"col-md-4\">\\n       <div class=\"card\">\\n        <img alt=\"Card image cap\" class=\"card-img-top\" src=\"https://imagecache.jpl.nasa.gov/images/640x350/C1-PIA23180-16-640x350.gif\"/>\\n        <div class=\"card-body\">\\n         <p class=\"card-text\">\\n          Access to the full library of publicly released images from various Solar System exploration programs\\n         </p>\\n        </div>\\n       </div>\\n      </div>\\n     </div>\\n    </div>\\n   </div>\\n  </div>\\n  <div class=\"footer\">\\n   <div class=\"container\">\\n    <div class=\"col-md-12\">\\n     <div class=\"row\">\\n      <div class=\"col-md-3\">\\n       <h4>\\n        About JPL\\n       </h4>\\n       <ul>\\n        <li>\\n         About JPL\\n        </li>\\n        <li>\\n         JPL Vision\\n        </li>\\n        <li>\\n         Executive Council\\n        </li>\\n        <li>\\n         History\\n        </li>\\n       </ul>\\n      </div>\\n      <div class=\"col-md-3\">\\n       <h4>\\n        Education\\n       </h4>\\n       <ul>\\n        <li>\\n         Intern\\n        </li>\\n        <li>\\n         Learn\\n        </li>\\n        <li>\\n         Teach\\n        </li>\\n        <li>\\n         News\\n        </li>\\n       </ul>\\n      </div>\\n      <div class=\"col-md-3\">\\n       <h4>\\n        Our Sites\\n       </h4>\\n       <ul>\\n        <li>\\n         Asteroid Watch\\n        </li>\\n        <li>\\n         Basics of Spaceflight\\n        </li>\\n        <li>\\n         Cassini - Mission to Saturn\\n        </li>\\n        <li>\\n         Climate Kids\\n        </li>\\n       </ul>\\n      </div>\\n      <div class=\"col-md-3\">\\n       <h4>\\n        Galleries\\n       </h4>\\n       <ul>\\n        <li>\\n         JPL Space Images\\n        </li>\\n        <li>\\n         Videos\\n        </li>\\n        <li>\\n         Infographics\\n        </li>\\n        <li>\\n         Photojournal\\n        </li>\\n       </ul>\\n      </div>\\n     </div>\\n    </div>\\n   </div>\\n  </div>\\n  <!--<div class=\"showFullimage\">\\n\\t<button class=\"btn btn-outline-light hideimage\" onclick=hideimage()> Close</button>\\n\\t<img class=\"fullimage fade-in\" src=\"\">\\n</div>-->\\n  <!-- <script src=\"js/jquery.easeScroll.js\"></script>  -->\\n  <script src=\"js/jquery-3.5.1.min.js\">\\n  </script>\\n  <!-- <script src=\"js/jquery-3.2.1.slim.min.js\"></script> -->\\n  <script src=\"js/demo.js\">\\n  </script>\\n  <!-- <script src=\"js/app.js\"></script> -->\\n  <script src=\"https://cdnjs.cloudflare.com/ajax/libs/popper.js/1.12.9/umd/popper.min.js\">\\n  </script>\\n  <script src=\"https://maxcdn.bootstrapcdn.com/bootstrap/4.0.0/js/bootstrap.min.js\">\\n  </script>\\n  <script src=\"js/fancyBox/jquery.fancybox.pack.js?v=2.1.5\" type=\"text/javascript\">\\n  </script>\\n  <link href=\"js/fancyBox/jquery.fancybox.css?v=2.1.5\" media=\"screen\" rel=\"stylesheet\" type=\"text/css\"/>\\n  <link href=\"js/fancyBox/helpers/jquery.fancybox-thumbs.css?v=1.0.7\" rel=\"stylesheet\" type=\"text/css\"/>\\n  <script src=\"js/fancyBox/helpers/jquery.fancybox-thumbs.js?v=1.0.7\" type=\"text/javascript\">\\n  </script>\\n </body>\\n</html>'"
      ]
     },
     "execution_count": 12,
     "metadata": {},
     "output_type": "execute_result"
    }
   ],
   "source": [
    "jpl_image = browser.html\n",
    "soup = bs(jpl_image, \"html.parser\")\n",
    "soup.prettify()"
   ]
  },
  {
   "cell_type": "code",
   "execution_count": 13,
   "metadata": {},
   "outputs": [
    {
     "name": "stdout",
     "output_type": "stream",
     "text": [
      "image/featured/mars3.jpg\n"
     ]
    }
   ],
   "source": [
    "jpl_soup = soup.find(\"img\", class_=\"headerimage\")[\"src\"]\n",
    "print(jpl_soup)"
   ]
  },
  {
   "cell_type": "code",
   "execution_count": 14,
   "metadata": {},
   "outputs": [
    {
     "data": {
      "text/plain": [
       "'https://spaceimages-mars.com/image/featured/mars3.jpg'"
      ]
     },
     "execution_count": 14,
     "metadata": {},
     "output_type": "execute_result"
    }
   ],
   "source": [
    "jpl_images_site + jpl_soup "
   ]
  },
  {
   "cell_type": "code",
   "execution_count": 15,
   "metadata": {},
   "outputs": [
    {
     "data": {
      "text/plain": [
       "'https://spaceimages-mars.com/image/featured/mars3.jpg'"
      ]
     },
     "execution_count": 15,
     "metadata": {},
     "output_type": "execute_result"
    }
   ],
   "source": [
    "featured_image_url = jpl_images_site + jpl_soup \n",
    "featured_image_url"
   ]
  },
  {
   "cell_type": "code",
   "execution_count": 16,
   "metadata": {},
   "outputs": [],
   "source": [
    "browser.quit()"
   ]
  },
  {
   "cell_type": "markdown",
   "metadata": {},
   "source": [
    "\n",
    "## Mars Facts"
   ]
  },
  {
   "cell_type": "code",
   "execution_count": 17,
   "metadata": {},
   "outputs": [
    {
     "name": "stderr",
     "output_type": "stream",
     "text": [
      "[WDM] - ====== WebDriver manager ======\n",
      "[WDM] - Current google-chrome version is 89.0.4389\n",
      "[WDM] - Get LATEST driver version for 89.0.4389\n"
     ]
    },
    {
     "name": "stdout",
     "output_type": "stream",
     "text": [
      "\n",
      "\n"
     ]
    },
    {
     "name": "stderr",
     "output_type": "stream",
     "text": [
      "[WDM] - Driver [C:\\Users\\Owner\\.wdm\\drivers\\chromedriver\\win32\\89.0.4389.23\\chromedriver.exe] found in cache\n"
     ]
    }
   ],
   "source": [
    "executable_path = {'executable_path': ChromeDriverManager().install()}\n",
    "browser = Browser('chrome', **executable_path, headless=False)"
   ]
  },
  {
   "cell_type": "code",
   "execution_count": 18,
   "metadata": {},
   "outputs": [],
   "source": [
    "#Visit the Mars Facts webpage here and use Pandas to scrape the table containing facts about the planet including Diameter, Mass, etc.\n",
    "mars_fact_url = \"https://galaxyfacts-mars.com/\""
   ]
  },
  {
   "cell_type": "code",
   "execution_count": 19,
   "metadata": {},
   "outputs": [],
   "source": [
    "browser.visit(mars_fact_url)"
   ]
  },
  {
   "cell_type": "code",
   "execution_count": 20,
   "metadata": {},
   "outputs": [],
   "source": [
    "tables = pd.read_html(mars_fact_url)"
   ]
  },
  {
   "cell_type": "code",
   "execution_count": 21,
   "metadata": {},
   "outputs": [],
   "source": [
    "mars_facts_table = tables[1]"
   ]
  },
  {
   "cell_type": "code",
   "execution_count": 22,
   "metadata": {},
   "outputs": [],
   "source": [
    "mars_facts_table.columns = [\"Attribute\", \"Value\"]"
   ]
  },
  {
   "cell_type": "code",
   "execution_count": 23,
   "metadata": {},
   "outputs": [],
   "source": [
    "mars_facts_table.set_index(\"Attribute\", inplace=True)"
   ]
  },
  {
   "cell_type": "code",
   "execution_count": 24,
   "metadata": {},
   "outputs": [
    {
     "data": {
      "text/html": [
       "<div>\n",
       "<style scoped>\n",
       "    .dataframe tbody tr th:only-of-type {\n",
       "        vertical-align: middle;\n",
       "    }\n",
       "\n",
       "    .dataframe tbody tr th {\n",
       "        vertical-align: top;\n",
       "    }\n",
       "\n",
       "    .dataframe thead th {\n",
       "        text-align: right;\n",
       "    }\n",
       "</style>\n",
       "<table border=\"1\" class=\"dataframe\">\n",
       "  <thead>\n",
       "    <tr style=\"text-align: right;\">\n",
       "      <th></th>\n",
       "      <th>Value</th>\n",
       "    </tr>\n",
       "    <tr>\n",
       "      <th>Attribute</th>\n",
       "      <th></th>\n",
       "    </tr>\n",
       "  </thead>\n",
       "  <tbody>\n",
       "    <tr>\n",
       "      <th>Equatorial Diameter:</th>\n",
       "      <td>6,792 km</td>\n",
       "    </tr>\n",
       "    <tr>\n",
       "      <th>Polar Diameter:</th>\n",
       "      <td>6,752 km</td>\n",
       "    </tr>\n",
       "    <tr>\n",
       "      <th>Mass:</th>\n",
       "      <td>6.39 × 10^23 kg (0.11 Earths)</td>\n",
       "    </tr>\n",
       "    <tr>\n",
       "      <th>Moons:</th>\n",
       "      <td>2 ( Phobos &amp; Deimos )</td>\n",
       "    </tr>\n",
       "    <tr>\n",
       "      <th>Orbit Distance:</th>\n",
       "      <td>227,943,824 km (1.38 AU)</td>\n",
       "    </tr>\n",
       "    <tr>\n",
       "      <th>Orbit Period:</th>\n",
       "      <td>687 days (1.9 years)</td>\n",
       "    </tr>\n",
       "    <tr>\n",
       "      <th>Surface Temperature:</th>\n",
       "      <td>-87 to -5 °C</td>\n",
       "    </tr>\n",
       "    <tr>\n",
       "      <th>First Record:</th>\n",
       "      <td>2nd millennium BC</td>\n",
       "    </tr>\n",
       "    <tr>\n",
       "      <th>Recorded By:</th>\n",
       "      <td>Egyptian astronomers</td>\n",
       "    </tr>\n",
       "  </tbody>\n",
       "</table>\n",
       "</div>"
      ],
      "text/plain": [
       "                                              Value\n",
       "Attribute                                          \n",
       "Equatorial Diameter:                       6,792 km\n",
       "Polar Diameter:                            6,752 km\n",
       "Mass:                 6.39 × 10^23 kg (0.11 Earths)\n",
       "Moons:                        2 ( Phobos & Deimos )\n",
       "Orbit Distance:            227,943,824 km (1.38 AU)\n",
       "Orbit Period:                  687 days (1.9 years)\n",
       "Surface Temperature:                   -87 to -5 °C\n",
       "First Record:                     2nd millennium BC\n",
       "Recorded By:                   Egyptian astronomers"
      ]
     },
     "execution_count": 24,
     "metadata": {},
     "output_type": "execute_result"
    }
   ],
   "source": [
    "mars_facts_table"
   ]
  },
  {
   "cell_type": "code",
   "execution_count": 25,
   "metadata": {},
   "outputs": [
    {
     "data": {
      "text/plain": [
       "'<table border=\"1\" class=\"dataframe\">\\n  <thead>\\n    <tr style=\"text-align: right;\">\\n      <th></th>\\n      <th>Value</th>\\n    </tr>\\n    <tr>\\n      <th>Attribute</th>\\n      <th></th>\\n    </tr>\\n  </thead>\\n  <tbody>\\n    <tr>\\n      <th>Equatorial Diameter:</th>\\n      <td>6,792 km</td>\\n    </tr>\\n    <tr>\\n      <th>Polar Diameter:</th>\\n      <td>6,752 km</td>\\n    </tr>\\n    <tr>\\n      <th>Mass:</th>\\n      <td>6.39 × 10^23 kg (0.11 Earths)</td>\\n    </tr>\\n    <tr>\\n      <th>Moons:</th>\\n      <td>2 ( Phobos &amp; Deimos )</td>\\n    </tr>\\n    <tr>\\n      <th>Orbit Distance:</th>\\n      <td>227,943,824 km (1.38 AU)</td>\\n    </tr>\\n    <tr>\\n      <th>Orbit Period:</th>\\n      <td>687 days (1.9 years)</td>\\n    </tr>\\n    <tr>\\n      <th>Surface Temperature:</th>\\n      <td>-87 to -5 °C</td>\\n    </tr>\\n    <tr>\\n      <th>First Record:</th>\\n      <td>2nd millennium BC</td>\\n    </tr>\\n    <tr>\\n      <th>Recorded By:</th>\\n      <td>Egyptian astronomers</td>\\n    </tr>\\n  </tbody>\\n</table>'"
      ]
     },
     "execution_count": 25,
     "metadata": {},
     "output_type": "execute_result"
    }
   ],
   "source": [
    "# Use Pandas to convert the data to a HTML table string.\n",
    "mars_html_table = mars_facts_table.to_html()\n",
    "mars_html_table"
   ]
  },
  {
   "cell_type": "code",
   "execution_count": 26,
   "metadata": {},
   "outputs": [],
   "source": [
    "browser.quit()"
   ]
  },
  {
   "cell_type": "markdown",
   "metadata": {},
   "source": [
    "## Mars Hemispheres"
   ]
  },
  {
   "cell_type": "code",
   "execution_count": 27,
   "metadata": {},
   "outputs": [
    {
     "name": "stderr",
     "output_type": "stream",
     "text": [
      "[WDM] - ====== WebDriver manager ======\n",
      "[WDM] - Current google-chrome version is 89.0.4389\n",
      "[WDM] - Get LATEST driver version for 89.0.4389\n"
     ]
    },
    {
     "name": "stdout",
     "output_type": "stream",
     "text": [
      "\n",
      "\n"
     ]
    },
    {
     "name": "stderr",
     "output_type": "stream",
     "text": [
      "[WDM] - Driver [C:\\Users\\Owner\\.wdm\\drivers\\chromedriver\\win32\\89.0.4389.23\\chromedriver.exe] found in cache\n"
     ]
    }
   ],
   "source": [
    "executable_path = {'executable_path': ChromeDriverManager().install()}\n",
    "browser = Browser('chrome', **executable_path, headless=False)"
   ]
  },
  {
   "cell_type": "code",
   "execution_count": 28,
   "metadata": {},
   "outputs": [],
   "source": [
    "#Visit the astrogeology site here to obtain high resolution images for each of Mars's hemispheres.\n",
    "mars_hemispheres = \"https://marshemispheres.com/\""
   ]
  },
  {
   "cell_type": "code",
   "execution_count": 29,
   "metadata": {},
   "outputs": [],
   "source": [
    "browser.visit(mars_hemispheres)"
   ]
  },
  {
   "cell_type": "code",
   "execution_count": 30,
   "metadata": {},
   "outputs": [],
   "source": [
    "html = browser.html\n",
    "soup= bs(html,\"html.parser\")"
   ]
  },
  {
   "cell_type": "code",
   "execution_count": 31,
   "metadata": {
    "scrolled": true
   },
   "outputs": [
    {
     "name": "stderr",
     "output_type": "stream",
     "text": [
      "C:\\Users\\Owner\\anaconda3\\envs\\PythonData\\lib\\site-packages\\splinter\\driver\\webdriver\\__init__.py:501: FutureWarning: browser.find_link_by_text is deprecated. Use browser.links.find_by_text instead.\n",
      "  FutureWarning,\n"
     ]
    },
    {
     "name": "stdout",
     "output_type": "stream",
     "text": [
      "\n",
      "Cerberus Hemisphere Enhanced\n",
      "\n",
      "https://marshemispheres.com/images/full.jpg\n",
      "\n",
      "Schiaparelli Hemisphere Enhanced\n",
      "\n",
      "https://marshemispheres.com/images/schiaparelli_enhanced-full.jpg\n",
      "\n",
      "Syrtis Major Hemisphere Enhanced\n",
      "\n",
      "https://marshemispheres.com/images/syrtis_major_enhanced-full.jpg\n",
      "\n",
      "Valles Marineris Hemisphere Enhanced\n",
      "\n",
      "https://marshemispheres.com/images/valles_marineris_enhanced-full.jpg\n"
     ]
    }
   ],
   "source": [
    "hemi_dicts = []\n",
    "\n",
    "for i in range(1,9,2):\n",
    "    hemi_dict = {}\n",
    "    \n",
    "    browser.visit(mars_hemispheres)\n",
    "    time.sleep(1)\n",
    "    hemispheres_html = browser.html\n",
    "    hemispheres_soup = bs(hemispheres_html, 'html.parser')\n",
    "    hemi_name_links = hemispheres_soup.find_all('a', class_='product-item')\n",
    "    hemi_name = hemi_name_links[i].text.strip('Enhanced')\n",
    "    \n",
    "    detail_links = browser.find_by_css('a.product-item')\n",
    "    detail_links[i].click()\n",
    "    time.sleep(1)\n",
    "    browser.find_link_by_text('Sample').first.click()\n",
    "    time.sleep(1)\n",
    "    browser.windows.current = browser.windows[-1]\n",
    "    hemi_img_html = browser.html\n",
    "    browser.windows.current = browser.windows[0]\n",
    "    browser.windows[-1].close()\n",
    "    \n",
    "    hemi_img_soup = bs(hemi_img_html, 'html.parser')\n",
    "    hemi_img_path = hemi_img_soup.find('img')['src']\n",
    "\n",
    "    print(hemi_name)\n",
    "    hemi_dict['title'] = hemi_name.strip()\n",
    "    \n",
    "    print(hemi_img_path)\n",
    "    hemi_dict['img_url'] = hemi_img_path\n",
    "\n",
    "    hemi_dicts.append(hemi_dict)"
   ]
  },
  {
   "cell_type": "code",
   "execution_count": 32,
   "metadata": {},
   "outputs": [],
   "source": [
    "browser.quit()"
   ]
  },
  {
   "cell_type": "markdown",
   "metadata": {},
   "source": [
    "## merge all scraped data into a single dictionary"
   ]
  },
  {
   "cell_type": "code",
   "execution_count": 33,
   "metadata": {},
   "outputs": [],
   "source": [
    "scraped_data = {\n",
    "    \"news_title\": news_title, \n",
    "    \"paragraph_text\": paragraph_text,\n",
    "    \"featured_image_url\": featured_image_url, \n",
    "    \"mars_html_table\": mars_html_table,\n",
    "    \"hemi_dicts\": hemi_dicts\n",
    "    \n",
    "}"
   ]
  },
  {
   "cell_type": "code",
   "execution_count": 34,
   "metadata": {},
   "outputs": [
    {
     "data": {
      "text/plain": [
       "{'news_title': \"Nine Finalists Chosen in NASA's Mars 2020 Rover Naming Contest\",\n",
       " 'paragraph_text': \"Nine finalists have been chosen in the essay contest for K-12 students across U.S. to name NASA's next Mars rover. Now you can help by voting for your favorite. \",\n",
       " 'featured_image_url': 'https://spaceimages-mars.com/image/featured/mars3.jpg',\n",
       " 'mars_html_table': '<table border=\"1\" class=\"dataframe\">\\n  <thead>\\n    <tr style=\"text-align: right;\">\\n      <th></th>\\n      <th>Value</th>\\n    </tr>\\n    <tr>\\n      <th>Attribute</th>\\n      <th></th>\\n    </tr>\\n  </thead>\\n  <tbody>\\n    <tr>\\n      <th>Equatorial Diameter:</th>\\n      <td>6,792 km</td>\\n    </tr>\\n    <tr>\\n      <th>Polar Diameter:</th>\\n      <td>6,752 km</td>\\n    </tr>\\n    <tr>\\n      <th>Mass:</th>\\n      <td>6.39 × 10^23 kg (0.11 Earths)</td>\\n    </tr>\\n    <tr>\\n      <th>Moons:</th>\\n      <td>2 ( Phobos &amp; Deimos )</td>\\n    </tr>\\n    <tr>\\n      <th>Orbit Distance:</th>\\n      <td>227,943,824 km (1.38 AU)</td>\\n    </tr>\\n    <tr>\\n      <th>Orbit Period:</th>\\n      <td>687 days (1.9 years)</td>\\n    </tr>\\n    <tr>\\n      <th>Surface Temperature:</th>\\n      <td>-87 to -5 °C</td>\\n    </tr>\\n    <tr>\\n      <th>First Record:</th>\\n      <td>2nd millennium BC</td>\\n    </tr>\\n    <tr>\\n      <th>Recorded By:</th>\\n      <td>Egyptian astronomers</td>\\n    </tr>\\n  </tbody>\\n</table>',\n",
       " 'hemi_dicts': [{'title': 'Cerberus Hemisphere Enhanced',\n",
       "   'img_url': 'https://marshemispheres.com/images/full.jpg'},\n",
       "  {'title': 'Schiaparelli Hemisphere Enhanced',\n",
       "   'img_url': 'https://marshemispheres.com/images/schiaparelli_enhanced-full.jpg'},\n",
       "  {'title': 'Syrtis Major Hemisphere Enhanced',\n",
       "   'img_url': 'https://marshemispheres.com/images/syrtis_major_enhanced-full.jpg'},\n",
       "  {'title': 'Valles Marineris Hemisphere Enhanced',\n",
       "   'img_url': 'https://marshemispheres.com/images/valles_marineris_enhanced-full.jpg'}]}"
      ]
     },
     "execution_count": 34,
     "metadata": {},
     "output_type": "execute_result"
    }
   ],
   "source": [
    "scraped_data "
   ]
  },
  {
   "cell_type": "code",
   "execution_count": null,
   "metadata": {},
   "outputs": [],
   "source": []
  }
 ],
 "metadata": {
  "kernelspec": {
   "display_name": "Python 3",
   "language": "python",
   "name": "python3"
  },
  "language_info": {
   "codemirror_mode": {
    "name": "ipython",
    "version": 3
   },
   "file_extension": ".py",
   "mimetype": "text/x-python",
   "name": "python",
   "nbconvert_exporter": "python",
   "pygments_lexer": "ipython3",
   "version": "3.6.10"
  }
 },
 "nbformat": 4,
 "nbformat_minor": 2
}
